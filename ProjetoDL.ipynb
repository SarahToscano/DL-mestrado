{
 "cells": [
  {
   "cell_type": "markdown",
   "metadata": {},
   "source": [
    "# 📌 Proposta\n",
    "\n",
    "Com base em dados de HCV (https://archive.ics.uci.edu/ml/datasets/HCV+data#), realizar o pré-processamento e comparar o resultado entre **dois** algoritmos supervisionados: rede neural artificial e árvore de decisão \n",
    "\n",
    "O objetivo do projeto é classificar doadores de sangue em suspeitos e não suspeitos, em relação ao seu sangue destinado à doação, após o treinamento e validação do modelo. Ou seja, classificar casos de suspeita que não foram utilizados no treinamento/validação para analisar o comportamento obtido com cada algoritmo.\n"
   ]
  },
  {
   "cell_type": "markdown",
   "metadata": {},
   "source": [
    "## 📑 Metodologia "
   ]
  },
  {
   "cell_type": "markdown",
   "metadata": {},
   "source": [
    "**⚫ Pré-processamento**\n",
    "\n",
    "1. **Categorização de atributos;**\n",
    "    1. Váriável independente, Label \"Sex\".\n",
    "    2. Variável dependente, Label \"Category\".\n",
    "2. **Análise da correlação;**\n",
    "3. **Análise de dados duplicados;**\n",
    "4. **Análise de dados ausentes;**\n",
    "5. **Análise de outlier com boxplot;**\n",
    "6. **Normalização dos dados;**\n",
    "    1. Robust Scaler.\n",
    "7. **Divisão das amostras da base em dataset de casos confiáveis e suspeitos;**\n",
    "8. **Balanceamento dos dados;**\n",
    "9. **Divisão do dataset dos casos confiáveis em amostras para o treinamento e teste da rede neural.**\n",
    "  "
   ]
  },
  {
   "cell_type": "markdown",
   "metadata": {},
   "source": [
    "**⚫ Algoritmo 1: Rede Neural Artificial**\n",
    "\n",
    "1. **Rede Perceptron de multicamadas:**\n",
    "    1. Uma camada de entrada com 12 neurônios.\n",
    "    2. Uma camada oculta com 3 neurônios.\n",
    "    3. Uma camada de saída com 1 neurônio.\n",
    "2. **Treinamento da rede;**\n",
    "    1. Otimizador: Adam.\n",
    "    2. Perda: binary crossentropy.\n",
    "    3. Métrica: Acurácia.\n",
    "    4. Épocas: 200.\n",
    "    5. Batch size: 10.\n",
    "    6. Validation Split: 0.2\n",
    "3. **Predição dos resultados do caso de teste;**\n",
    "4. **Análise e descrição de métricas para os testes: acurácia, especificidade, sensibilidade, matriz de confusão e gráfico de loss.**\n",
    "4. **Predição dos casos suspeitos.**\n",
    "5. **Análise entre predição dos casos suspeitos com dataset balanceado e não balanceado.**\n",
    "\n"
   ]
  },
  {
   "cell_type": "markdown",
   "metadata": {},
   "source": [
    "**⚫ Algoritmo 2: Árvore de decisão**\n",
    "\n",
    "1. **Instancia-se o modelo do DecisionTreeClassifier;**\n",
    "2. **Treinamento do modelo com dados balanceados e não balanceados**\n",
    "3. **Análise e descrição de métricas para os testes: acurácia, especificidade, sensibilidade, matriz de confusão.**\n",
    "4. **Predição dos casos suspeitos.**\n",
    "5. **Comparação da predição entre modelo balanceado e não balanceado.**"
   ]
  },
  {
   "cell_type": "markdown",
   "metadata": {},
   "source": [
    "## 💻 Implementação da questão 1"
   ]
  },
  {
   "cell_type": "code",
   "execution_count": 1,
   "metadata": {},
   "outputs": [],
   "source": [
    "import numpy as np\n",
    "import pandas as pd\n",
    "import tensorflow as tf\n",
    "import matplotlib.pyplot as plt\n"
   ]
  },
  {
   "cell_type": "code",
   "execution_count": 2,
   "metadata": {},
   "outputs": [],
   "source": [
    "from numpy.random import seed\n",
    "import tensorflow\n",
    "SEED=1624\n",
    "tensorflow.random.set_seed(SEED)"
   ]
  },
  {
   "cell_type": "markdown",
   "metadata": {},
   "source": [
    "### Importação da base de dados"
   ]
  },
  {
   "cell_type": "code",
   "execution_count": 3,
   "metadata": {},
   "outputs": [
    {
     "data": {
      "text/html": [
       "<div>\n",
       "<style scoped>\n",
       "    .dataframe tbody tr th:only-of-type {\n",
       "        vertical-align: middle;\n",
       "    }\n",
       "\n",
       "    .dataframe tbody tr th {\n",
       "        vertical-align: top;\n",
       "    }\n",
       "\n",
       "    .dataframe thead th {\n",
       "        text-align: right;\n",
       "    }\n",
       "</style>\n",
       "<table border=\"1\" class=\"dataframe\">\n",
       "  <thead>\n",
       "    <tr style=\"text-align: right;\">\n",
       "      <th></th>\n",
       "      <th>Category</th>\n",
       "      <th>Age</th>\n",
       "      <th>Sex</th>\n",
       "      <th>ALB</th>\n",
       "      <th>ALP</th>\n",
       "      <th>ALT</th>\n",
       "      <th>AST</th>\n",
       "      <th>BIL</th>\n",
       "      <th>CHE</th>\n",
       "      <th>CHOL</th>\n",
       "      <th>CREA</th>\n",
       "      <th>GGT</th>\n",
       "      <th>PROT</th>\n",
       "    </tr>\n",
       "  </thead>\n",
       "  <tbody>\n",
       "    <tr>\n",
       "      <th>1</th>\n",
       "      <td>0=Blood Donor</td>\n",
       "      <td>32</td>\n",
       "      <td>m</td>\n",
       "      <td>38.5</td>\n",
       "      <td>52.5</td>\n",
       "      <td>7.7</td>\n",
       "      <td>22.1</td>\n",
       "      <td>7.5</td>\n",
       "      <td>6.93</td>\n",
       "      <td>3.23</td>\n",
       "      <td>106.0</td>\n",
       "      <td>12.1</td>\n",
       "      <td>69.0</td>\n",
       "    </tr>\n",
       "    <tr>\n",
       "      <th>2</th>\n",
       "      <td>0=Blood Donor</td>\n",
       "      <td>32</td>\n",
       "      <td>m</td>\n",
       "      <td>38.5</td>\n",
       "      <td>70.3</td>\n",
       "      <td>18.0</td>\n",
       "      <td>24.7</td>\n",
       "      <td>3.9</td>\n",
       "      <td>11.17</td>\n",
       "      <td>4.80</td>\n",
       "      <td>74.0</td>\n",
       "      <td>15.6</td>\n",
       "      <td>76.5</td>\n",
       "    </tr>\n",
       "    <tr>\n",
       "      <th>3</th>\n",
       "      <td>0=Blood Donor</td>\n",
       "      <td>32</td>\n",
       "      <td>m</td>\n",
       "      <td>46.9</td>\n",
       "      <td>74.7</td>\n",
       "      <td>36.2</td>\n",
       "      <td>52.6</td>\n",
       "      <td>6.1</td>\n",
       "      <td>8.84</td>\n",
       "      <td>5.20</td>\n",
       "      <td>86.0</td>\n",
       "      <td>33.2</td>\n",
       "      <td>79.3</td>\n",
       "    </tr>\n",
       "    <tr>\n",
       "      <th>4</th>\n",
       "      <td>0=Blood Donor</td>\n",
       "      <td>32</td>\n",
       "      <td>m</td>\n",
       "      <td>43.2</td>\n",
       "      <td>52.0</td>\n",
       "      <td>30.6</td>\n",
       "      <td>22.6</td>\n",
       "      <td>18.9</td>\n",
       "      <td>7.33</td>\n",
       "      <td>4.74</td>\n",
       "      <td>80.0</td>\n",
       "      <td>33.8</td>\n",
       "      <td>75.7</td>\n",
       "    </tr>\n",
       "    <tr>\n",
       "      <th>5</th>\n",
       "      <td>0=Blood Donor</td>\n",
       "      <td>32</td>\n",
       "      <td>m</td>\n",
       "      <td>39.2</td>\n",
       "      <td>74.1</td>\n",
       "      <td>32.6</td>\n",
       "      <td>24.8</td>\n",
       "      <td>9.6</td>\n",
       "      <td>9.15</td>\n",
       "      <td>4.32</td>\n",
       "      <td>76.0</td>\n",
       "      <td>29.9</td>\n",
       "      <td>68.7</td>\n",
       "    </tr>\n",
       "  </tbody>\n",
       "</table>\n",
       "</div>"
      ],
      "text/plain": [
       "        Category  Age Sex   ALB   ALP   ALT   AST   BIL    CHE  CHOL   CREA  \\\n",
       "1  0=Blood Donor   32   m  38.5  52.5   7.7  22.1   7.5   6.93  3.23  106.0   \n",
       "2  0=Blood Donor   32   m  38.5  70.3  18.0  24.7   3.9  11.17  4.80   74.0   \n",
       "3  0=Blood Donor   32   m  46.9  74.7  36.2  52.6   6.1   8.84  5.20   86.0   \n",
       "4  0=Blood Donor   32   m  43.2  52.0  30.6  22.6  18.9   7.33  4.74   80.0   \n",
       "5  0=Blood Donor   32   m  39.2  74.1  32.6  24.8   9.6   9.15  4.32   76.0   \n",
       "\n",
       "    GGT  PROT  \n",
       "1  12.1  69.0  \n",
       "2  15.6  76.5  \n",
       "3  33.2  79.3  \n",
       "4  33.8  75.7  \n",
       "5  29.9  68.7  "
      ]
     },
     "execution_count": 3,
     "metadata": {},
     "output_type": "execute_result"
    }
   ],
   "source": [
    "dataset = pd.read_csv('./hcvdat0.csv', delimiter=',', index_col=0)\n",
    "dataset.head()"
   ]
  },
  {
   "cell_type": "markdown",
   "metadata": {},
   "source": [
    "## ➡️ Pré-processamento"
   ]
  },
  {
   "cell_type": "markdown",
   "metadata": {},
   "source": [
    "#### Codificação da variável independete, atributo \"Sex\""
   ]
  },
  {
   "cell_type": "code",
   "execution_count": 4,
   "metadata": {},
   "outputs": [],
   "source": [
    "dataset['Sex'] = dataset['Sex'].replace({'m': 0, 'f': 1})"
   ]
  },
  {
   "cell_type": "code",
   "execution_count": 5,
   "metadata": {},
   "outputs": [
    {
     "data": {
      "text/html": [
       "<div>\n",
       "<style scoped>\n",
       "    .dataframe tbody tr th:only-of-type {\n",
       "        vertical-align: middle;\n",
       "    }\n",
       "\n",
       "    .dataframe tbody tr th {\n",
       "        vertical-align: top;\n",
       "    }\n",
       "\n",
       "    .dataframe thead th {\n",
       "        text-align: right;\n",
       "    }\n",
       "</style>\n",
       "<table border=\"1\" class=\"dataframe\">\n",
       "  <thead>\n",
       "    <tr style=\"text-align: right;\">\n",
       "      <th></th>\n",
       "      <th>Category</th>\n",
       "      <th>Age</th>\n",
       "      <th>Sex</th>\n",
       "      <th>ALB</th>\n",
       "      <th>ALP</th>\n",
       "      <th>ALT</th>\n",
       "      <th>AST</th>\n",
       "      <th>BIL</th>\n",
       "      <th>CHE</th>\n",
       "      <th>CHOL</th>\n",
       "      <th>CREA</th>\n",
       "      <th>GGT</th>\n",
       "      <th>PROT</th>\n",
       "    </tr>\n",
       "  </thead>\n",
       "  <tbody>\n",
       "    <tr>\n",
       "      <th>1</th>\n",
       "      <td>0=Blood Donor</td>\n",
       "      <td>32</td>\n",
       "      <td>0</td>\n",
       "      <td>38.5</td>\n",
       "      <td>52.5</td>\n",
       "      <td>7.7</td>\n",
       "      <td>22.1</td>\n",
       "      <td>7.5</td>\n",
       "      <td>6.93</td>\n",
       "      <td>3.23</td>\n",
       "      <td>106.0</td>\n",
       "      <td>12.1</td>\n",
       "      <td>69.0</td>\n",
       "    </tr>\n",
       "    <tr>\n",
       "      <th>2</th>\n",
       "      <td>0=Blood Donor</td>\n",
       "      <td>32</td>\n",
       "      <td>0</td>\n",
       "      <td>38.5</td>\n",
       "      <td>70.3</td>\n",
       "      <td>18.0</td>\n",
       "      <td>24.7</td>\n",
       "      <td>3.9</td>\n",
       "      <td>11.17</td>\n",
       "      <td>4.80</td>\n",
       "      <td>74.0</td>\n",
       "      <td>15.6</td>\n",
       "      <td>76.5</td>\n",
       "    </tr>\n",
       "    <tr>\n",
       "      <th>3</th>\n",
       "      <td>0=Blood Donor</td>\n",
       "      <td>32</td>\n",
       "      <td>0</td>\n",
       "      <td>46.9</td>\n",
       "      <td>74.7</td>\n",
       "      <td>36.2</td>\n",
       "      <td>52.6</td>\n",
       "      <td>6.1</td>\n",
       "      <td>8.84</td>\n",
       "      <td>5.20</td>\n",
       "      <td>86.0</td>\n",
       "      <td>33.2</td>\n",
       "      <td>79.3</td>\n",
       "    </tr>\n",
       "    <tr>\n",
       "      <th>4</th>\n",
       "      <td>0=Blood Donor</td>\n",
       "      <td>32</td>\n",
       "      <td>0</td>\n",
       "      <td>43.2</td>\n",
       "      <td>52.0</td>\n",
       "      <td>30.6</td>\n",
       "      <td>22.6</td>\n",
       "      <td>18.9</td>\n",
       "      <td>7.33</td>\n",
       "      <td>4.74</td>\n",
       "      <td>80.0</td>\n",
       "      <td>33.8</td>\n",
       "      <td>75.7</td>\n",
       "    </tr>\n",
       "    <tr>\n",
       "      <th>5</th>\n",
       "      <td>0=Blood Donor</td>\n",
       "      <td>32</td>\n",
       "      <td>0</td>\n",
       "      <td>39.2</td>\n",
       "      <td>74.1</td>\n",
       "      <td>32.6</td>\n",
       "      <td>24.8</td>\n",
       "      <td>9.6</td>\n",
       "      <td>9.15</td>\n",
       "      <td>4.32</td>\n",
       "      <td>76.0</td>\n",
       "      <td>29.9</td>\n",
       "      <td>68.7</td>\n",
       "    </tr>\n",
       "  </tbody>\n",
       "</table>\n",
       "</div>"
      ],
      "text/plain": [
       "        Category  Age  Sex   ALB   ALP   ALT   AST   BIL    CHE  CHOL   CREA  \\\n",
       "1  0=Blood Donor   32    0  38.5  52.5   7.7  22.1   7.5   6.93  3.23  106.0   \n",
       "2  0=Blood Donor   32    0  38.5  70.3  18.0  24.7   3.9  11.17  4.80   74.0   \n",
       "3  0=Blood Donor   32    0  46.9  74.7  36.2  52.6   6.1   8.84  5.20   86.0   \n",
       "4  0=Blood Donor   32    0  43.2  52.0  30.6  22.6  18.9   7.33  4.74   80.0   \n",
       "5  0=Blood Donor   32    0  39.2  74.1  32.6  24.8   9.6   9.15  4.32   76.0   \n",
       "\n",
       "    GGT  PROT  \n",
       "1  12.1  69.0  \n",
       "2  15.6  76.5  \n",
       "3  33.2  79.3  \n",
       "4  33.8  75.7  \n",
       "5  29.9  68.7  "
      ]
     },
     "execution_count": 5,
     "metadata": {},
     "output_type": "execute_result"
    }
   ],
   "source": [
    "dataset.head()"
   ]
  },
  {
   "cell_type": "markdown",
   "metadata": {},
   "source": [
    "#### Análise de correlação\n",
    "\n",
    "Nenhum caso relevante de alta correlação, ou seja, nenhum atributo será retirado."
   ]
  },
  {
   "cell_type": "code",
   "execution_count": 6,
   "metadata": {},
   "outputs": [
    {
     "data": {
      "text/html": [
       "<style  type=\"text/css\" >\n",
       "#T_8f0a1_row0_col0,#T_8f0a1_row1_col1,#T_8f0a1_row2_col2,#T_8f0a1_row3_col3,#T_8f0a1_row4_col4,#T_8f0a1_row5_col5,#T_8f0a1_row6_col6,#T_8f0a1_row7_col7,#T_8f0a1_row8_col8,#T_8f0a1_row9_col9,#T_8f0a1_row10_col10,#T_8f0a1_row11_col11{\n",
       "            background-color:  #ff00ff;\n",
       "            color:  #f1f1f1;\n",
       "        }#T_8f0a1_row0_col1,#T_8f0a1_row1_col6,#T_8f0a1_row5_col11,#T_8f0a1_row6_col9,#T_8f0a1_row10_col7,#T_8f0a1_row10_col8{\n",
       "            background-color:  #2ad5ff;\n",
       "            color:  #000000;\n",
       "        }#T_8f0a1_row0_col2,#T_8f0a1_row2_col1,#T_8f0a1_row5_col2{\n",
       "            background-color:  #05faff;\n",
       "            color:  #000000;\n",
       "        }#T_8f0a1_row0_col3,#T_8f0a1_row0_col6,#T_8f0a1_row3_col7,#T_8f0a1_row3_col8{\n",
       "            background-color:  #46b9ff;\n",
       "            color:  #000000;\n",
       "        }#T_8f0a1_row0_col4,#T_8f0a1_row2_col9,#T_8f0a1_row9_col8{\n",
       "            background-color:  #22ddff;\n",
       "            color:  #000000;\n",
       "        }#T_8f0a1_row0_col5{\n",
       "            background-color:  #3fc0ff;\n",
       "            color:  #000000;\n",
       "        }#T_8f0a1_row0_col7,#T_8f0a1_row6_col0{\n",
       "            background-color:  #31ceff;\n",
       "            color:  #000000;\n",
       "        }#T_8f0a1_row0_col8{\n",
       "            background-color:  #47b8ff;\n",
       "            color:  #000000;\n",
       "        }#T_8f0a1_row0_col9,#T_8f0a1_row5_col9{\n",
       "            background-color:  #1ee1ff;\n",
       "            color:  #000000;\n",
       "        }#T_8f0a1_row0_col10,#T_8f0a1_row3_col9,#T_8f0a1_row7_col4{\n",
       "            background-color:  #44bbff;\n",
       "            color:  #000000;\n",
       "        }#T_8f0a1_row0_col11,#T_8f0a1_row1_col4,#T_8f0a1_row1_col9,#T_8f0a1_row2_col0,#T_8f0a1_row2_col3,#T_8f0a1_row2_col10,#T_8f0a1_row5_col8,#T_8f0a1_row6_col2,#T_8f0a1_row6_col7,#T_8f0a1_row7_col1,#T_8f0a1_row7_col5,#T_8f0a1_row7_col6,#T_8f0a1_row8_col5{\n",
       "            background-color:  #00ffff;\n",
       "            color:  #000000;\n",
       "        }#T_8f0a1_row1_col0{\n",
       "            background-color:  #2fd0ff;\n",
       "            color:  #000000;\n",
       "        }#T_8f0a1_row1_col2{\n",
       "            background-color:  #0ff0ff;\n",
       "            color:  #000000;\n",
       "        }#T_8f0a1_row1_col3,#T_8f0a1_row2_col4{\n",
       "            background-color:  #24dbff;\n",
       "            color:  #000000;\n",
       "        }#T_8f0a1_row1_col5,#T_8f0a1_row3_col2{\n",
       "            background-color:  #10efff;\n",
       "            color:  #000000;\n",
       "        }#T_8f0a1_row1_col7,#T_8f0a1_row10_col11,#T_8f0a1_row11_col10{\n",
       "            background-color:  #1fe0ff;\n",
       "            color:  #000000;\n",
       "        }#T_8f0a1_row1_col8,#T_8f0a1_row8_col4{\n",
       "            background-color:  #32cdff;\n",
       "            color:  #000000;\n",
       "        }#T_8f0a1_row1_col10{\n",
       "            background-color:  #04fbff;\n",
       "            color:  #000000;\n",
       "        }#T_8f0a1_row1_col11{\n",
       "            background-color:  #16e9ff;\n",
       "            color:  #000000;\n",
       "        }#T_8f0a1_row2_col5{\n",
       "            background-color:  #03fcff;\n",
       "            color:  #000000;\n",
       "        }#T_8f0a1_row2_col6,#T_8f0a1_row3_col11{\n",
       "            background-color:  #15eaff;\n",
       "            color:  #000000;\n",
       "        }#T_8f0a1_row2_col7{\n",
       "            background-color:  #8877ff;\n",
       "            color:  #000000;\n",
       "        }#T_8f0a1_row2_col8,#T_8f0a1_row11_col8{\n",
       "            background-color:  #58a7ff;\n",
       "            color:  #000000;\n",
       "        }#T_8f0a1_row2_col11{\n",
       "            background-color:  #9d62ff;\n",
       "            color:  #000000;\n",
       "        }#T_8f0a1_row3_col0,#T_8f0a1_row4_col3{\n",
       "            background-color:  #4fb0ff;\n",
       "            color:  #000000;\n",
       "        }#T_8f0a1_row3_col1{\n",
       "            background-color:  #29d6ff;\n",
       "            color:  #000000;\n",
       "        }#T_8f0a1_row3_col4,#T_8f0a1_row6_col10{\n",
       "            background-color:  #52adff;\n",
       "            color:  #000000;\n",
       "        }#T_8f0a1_row3_col5{\n",
       "            background-color:  #39c6ff;\n",
       "            color:  #000000;\n",
       "        }#T_8f0a1_row3_col6,#T_8f0a1_row10_col0{\n",
       "            background-color:  #4ab5ff;\n",
       "            color:  #000000;\n",
       "        }#T_8f0a1_row3_col10{\n",
       "            background-color:  #8778ff;\n",
       "            color:  #000000;\n",
       "        }#T_8f0a1_row4_col0{\n",
       "            background-color:  #28d7ff;\n",
       "            color:  #000000;\n",
       "        }#T_8f0a1_row4_col1{\n",
       "            background-color:  #01feff;\n",
       "            color:  #000000;\n",
       "        }#T_8f0a1_row4_col2,#T_8f0a1_row5_col3,#T_8f0a1_row9_col2{\n",
       "            background-color:  #2ed1ff;\n",
       "            color:  #000000;\n",
       "        }#T_8f0a1_row4_col5{\n",
       "            background-color:  #6699ff;\n",
       "            color:  #000000;\n",
       "        }#T_8f0a1_row4_col6,#T_8f0a1_row11_col4{\n",
       "            background-color:  #38c7ff;\n",
       "            color:  #000000;\n",
       "        }#T_8f0a1_row4_col7{\n",
       "            background-color:  #5ca3ff;\n",
       "            color:  #000000;\n",
       "        }#T_8f0a1_row4_col8,#T_8f0a1_row8_col3{\n",
       "            background-color:  #3bc4ff;\n",
       "            color:  #000000;\n",
       "        }#T_8f0a1_row4_col9,#T_8f0a1_row11_col1{\n",
       "            background-color:  #19e6ff;\n",
       "            color:  #000000;\n",
       "        }#T_8f0a1_row4_col10{\n",
       "            background-color:  #59a6ff;\n",
       "            color:  #000000;\n",
       "        }#T_8f0a1_row4_col11{\n",
       "            background-color:  #37c8ff;\n",
       "            color:  #000000;\n",
       "        }#T_8f0a1_row5_col0,#T_8f0a1_row9_col7,#T_8f0a1_row9_col10,#T_8f0a1_row10_col9{\n",
       "            background-color:  #3dc2ff;\n",
       "            color:  #000000;\n",
       "        }#T_8f0a1_row5_col1{\n",
       "            background-color:  #08f7ff;\n",
       "            color:  #000000;\n",
       "        }#T_8f0a1_row5_col4{\n",
       "            background-color:  #5fa0ff;\n",
       "            color:  #000000;\n",
       "        }#T_8f0a1_row5_col6{\n",
       "            background-color:  #7b84ff;\n",
       "            color:  #000000;\n",
       "        }#T_8f0a1_row5_col7,#T_8f0a1_row6_col11{\n",
       "            background-color:  #17e8ff;\n",
       "            color:  #000000;\n",
       "        }#T_8f0a1_row5_col10{\n",
       "            background-color:  #8f70ff;\n",
       "            color:  #000000;\n",
       "        }#T_8f0a1_row6_col1{\n",
       "            background-color:  #0cf3ff;\n",
       "            color:  #000000;\n",
       "        }#T_8f0a1_row6_col3{\n",
       "            background-color:  #2cd3ff;\n",
       "            color:  #000000;\n",
       "        }#T_8f0a1_row6_col4,#T_8f0a1_row9_col11{\n",
       "            background-color:  #1be4ff;\n",
       "            color:  #000000;\n",
       "        }#T_8f0a1_row6_col5{\n",
       "            background-color:  #6e91ff;\n",
       "            color:  #000000;\n",
       "        }#T_8f0a1_row6_col8{\n",
       "            background-color:  #06f9ff;\n",
       "            color:  #000000;\n",
       "        }#T_8f0a1_row7_col0,#T_8f0a1_row9_col4{\n",
       "            background-color:  #1ae5ff;\n",
       "            color:  #000000;\n",
       "        }#T_8f0a1_row7_col2{\n",
       "            background-color:  #7d82ff;\n",
       "            color:  #000000;\n",
       "        }#T_8f0a1_row7_col3,#T_8f0a1_row9_col5{\n",
       "            background-color:  #27d8ff;\n",
       "            color:  #000000;\n",
       "        }#T_8f0a1_row7_col8{\n",
       "            background-color:  #8679ff;\n",
       "            color:  #000000;\n",
       "        }#T_8f0a1_row7_col9,#T_8f0a1_row8_col10{\n",
       "            background-color:  #20dfff;\n",
       "            color:  #000000;\n",
       "        }#T_8f0a1_row7_col10{\n",
       "            background-color:  #0af5ff;\n",
       "            color:  #000000;\n",
       "        }#T_8f0a1_row7_col11{\n",
       "            background-color:  #639cff;\n",
       "            color:  #000000;\n",
       "        }#T_8f0a1_row8_col0,#T_8f0a1_row9_col6{\n",
       "            background-color:  #45baff;\n",
       "            color:  #000000;\n",
       "        }#T_8f0a1_row8_col1{\n",
       "            background-color:  #2bd4ff;\n",
       "            color:  #000000;\n",
       "        }#T_8f0a1_row8_col2,#T_8f0a1_row10_col4{\n",
       "            background-color:  #5aa5ff;\n",
       "            color:  #000000;\n",
       "        }#T_8f0a1_row8_col6{\n",
       "            background-color:  #1de2ff;\n",
       "            color:  #000000;\n",
       "        }#T_8f0a1_row8_col7{\n",
       "            background-color:  #916eff;\n",
       "            color:  #000000;\n",
       "        }#T_8f0a1_row8_col9{\n",
       "            background-color:  #18e7ff;\n",
       "            color:  #000000;\n",
       "        }#T_8f0a1_row8_col11{\n",
       "            background-color:  #50afff;\n",
       "            color:  #000000;\n",
       "        }#T_8f0a1_row9_col0{\n",
       "            background-color:  #25daff;\n",
       "            color:  #000000;\n",
       "        }#T_8f0a1_row9_col1{\n",
       "            background-color:  #02fdff;\n",
       "            color:  #000000;\n",
       "        }#T_8f0a1_row9_col3{\n",
       "            background-color:  #41beff;\n",
       "            color:  #000000;\n",
       "        }#T_8f0a1_row10_col1{\n",
       "            background-color:  #07f8ff;\n",
       "            color:  #000000;\n",
       "        }#T_8f0a1_row10_col2{\n",
       "            background-color:  #0df2ff;\n",
       "            color:  #000000;\n",
       "        }#T_8f0a1_row10_col3{\n",
       "            background-color:  #857aff;\n",
       "            color:  #000000;\n",
       "        }#T_8f0a1_row10_col5{\n",
       "            background-color:  #946bff;\n",
       "            color:  #000000;\n",
       "        }#T_8f0a1_row10_col6{\n",
       "            background-color:  #6996ff;\n",
       "            color:  #000000;\n",
       "        }#T_8f0a1_row11_col0{\n",
       "            background-color:  #09f6ff;\n",
       "            color:  #000000;\n",
       "        }#T_8f0a1_row11_col2{\n",
       "            background-color:  #a35cff;\n",
       "            color:  #000000;\n",
       "        }#T_8f0a1_row11_col3{\n",
       "            background-color:  #13ecff;\n",
       "            color:  #000000;\n",
       "        }#T_8f0a1_row11_col5{\n",
       "            background-color:  #34cbff;\n",
       "            color:  #000000;\n",
       "        }#T_8f0a1_row11_col6{\n",
       "            background-color:  #36c9ff;\n",
       "            color:  #000000;\n",
       "        }#T_8f0a1_row11_col7{\n",
       "            background-color:  #7887ff;\n",
       "            color:  #000000;\n",
       "        }#T_8f0a1_row11_col9{\n",
       "            background-color:  #1ce3ff;\n",
       "            color:  #000000;\n",
       "        }</style><table id=\"T_8f0a1_\" ><thead>    <tr>        <th class=\"blank level0\" ></th>        <th class=\"col_heading level0 col0\" >Age</th>        <th class=\"col_heading level0 col1\" >Sex</th>        <th class=\"col_heading level0 col2\" >ALB</th>        <th class=\"col_heading level0 col3\" >ALP</th>        <th class=\"col_heading level0 col4\" >ALT</th>        <th class=\"col_heading level0 col5\" >AST</th>        <th class=\"col_heading level0 col6\" >BIL</th>        <th class=\"col_heading level0 col7\" >CHE</th>        <th class=\"col_heading level0 col8\" >CHOL</th>        <th class=\"col_heading level0 col9\" >CREA</th>        <th class=\"col_heading level0 col10\" >GGT</th>        <th class=\"col_heading level0 col11\" >PROT</th>    </tr></thead><tbody>\n",
       "                <tr>\n",
       "                        <th id=\"T_8f0a1_level0_row0\" class=\"row_heading level0 row0\" >Age</th>\n",
       "                        <td id=\"T_8f0a1_row0_col0\" class=\"data row0 col0\" >1.000000</td>\n",
       "                        <td id=\"T_8f0a1_row0_col1\" class=\"data row0 col1\" >0.024544</td>\n",
       "                        <td id=\"T_8f0a1_row0_col2\" class=\"data row0 col2\" >-0.197498</td>\n",
       "                        <td id=\"T_8f0a1_row0_col3\" class=\"data row0 col3\" >0.173340</td>\n",
       "                        <td id=\"T_8f0a1_row0_col4\" class=\"data row0 col4\" >-0.006021</td>\n",
       "                        <td id=\"T_8f0a1_row0_col5\" class=\"data row0 col5\" >0.088666</td>\n",
       "                        <td id=\"T_8f0a1_row0_col6\" class=\"data row0 col6\" >0.032492</td>\n",
       "                        <td id=\"T_8f0a1_row0_col7\" class=\"data row0 col7\" >-0.075093</td>\n",
       "                        <td id=\"T_8f0a1_row0_col8\" class=\"data row0 col8\" >0.125641</td>\n",
       "                        <td id=\"T_8f0a1_row0_col9\" class=\"data row0 col9\" >-0.022296</td>\n",
       "                        <td id=\"T_8f0a1_row0_col10\" class=\"data row0 col10\" >0.153087</td>\n",
       "                        <td id=\"T_8f0a1_row0_col11\" class=\"data row0 col11\" >-0.153668</td>\n",
       "            </tr>\n",
       "            <tr>\n",
       "                        <th id=\"T_8f0a1_level0_row1\" class=\"row_heading level0 row1\" >Sex</th>\n",
       "                        <td id=\"T_8f0a1_row1_col0\" class=\"data row1 col0\" >0.024544</td>\n",
       "                        <td id=\"T_8f0a1_row1_col1\" class=\"data row1 col1\" >1.000000</td>\n",
       "                        <td id=\"T_8f0a1_row1_col2\" class=\"data row1 col2\" >-0.146140</td>\n",
       "                        <td id=\"T_8f0a1_row1_col3\" class=\"data row1 col3\" >0.019825</td>\n",
       "                        <td id=\"T_8f0a1_row1_col4\" class=\"data row1 col4\" >-0.161868</td>\n",
       "                        <td id=\"T_8f0a1_row1_col5\" class=\"data row1 col5\" >-0.130891</td>\n",
       "                        <td id=\"T_8f0a1_row1_col6\" class=\"data row1 col6\" >-0.111177</td>\n",
       "                        <td id=\"T_8f0a1_row1_col7\" class=\"data row1 col7\" >-0.169111</td>\n",
       "                        <td id=\"T_8f0a1_row1_col8\" class=\"data row1 col8\" >0.030208</td>\n",
       "                        <td id=\"T_8f0a1_row1_col9\" class=\"data row1 col9\" >-0.159589</td>\n",
       "                        <td id=\"T_8f0a1_row1_col10\" class=\"data row1 col10\" >-0.133276</td>\n",
       "                        <td id=\"T_8f0a1_row1_col11\" class=\"data row1 col11\" >-0.051277</td>\n",
       "            </tr>\n",
       "            <tr>\n",
       "                        <th id=\"T_8f0a1_level0_row2\" class=\"row_heading level0 row2\" >ALB</th>\n",
       "                        <td id=\"T_8f0a1_row2_col0\" class=\"data row2 col0\" >-0.197498</td>\n",
       "                        <td id=\"T_8f0a1_row2_col1\" class=\"data row2 col1\" >-0.146140</td>\n",
       "                        <td id=\"T_8f0a1_row2_col2\" class=\"data row2 col2\" >1.000000</td>\n",
       "                        <td id=\"T_8f0a1_row2_col3\" class=\"data row2 col3\" >-0.141584</td>\n",
       "                        <td id=\"T_8f0a1_row2_col4\" class=\"data row2 col4\" >0.001606</td>\n",
       "                        <td id=\"T_8f0a1_row2_col5\" class=\"data row2 col5\" >-0.193450</td>\n",
       "                        <td id=\"T_8f0a1_row2_col6\" class=\"data row2 col6\" >-0.221651</td>\n",
       "                        <td id=\"T_8f0a1_row2_col7\" class=\"data row2 col7\" >0.375878</td>\n",
       "                        <td id=\"T_8f0a1_row2_col8\" class=\"data row2 col8\" >0.208248</td>\n",
       "                        <td id=\"T_8f0a1_row2_col9\" class=\"data row2 col9\" >-0.001573</td>\n",
       "                        <td id=\"T_8f0a1_row2_col10\" class=\"data row2 col10\" >-0.155749</td>\n",
       "                        <td id=\"T_8f0a1_row2_col11\" class=\"data row2 col11\" >0.557197</td>\n",
       "            </tr>\n",
       "            <tr>\n",
       "                        <th id=\"T_8f0a1_level0_row3\" class=\"row_heading level0 row3\" >ALP</th>\n",
       "                        <td id=\"T_8f0a1_row3_col0\" class=\"data row3 col0\" >0.173340</td>\n",
       "                        <td id=\"T_8f0a1_row3_col1\" class=\"data row3 col1\" >0.019825</td>\n",
       "                        <td id=\"T_8f0a1_row3_col2\" class=\"data row3 col2\" >-0.141584</td>\n",
       "                        <td id=\"T_8f0a1_row3_col3\" class=\"data row3 col3\" >1.000000</td>\n",
       "                        <td id=\"T_8f0a1_row3_col4\" class=\"data row3 col4\" >0.214480</td>\n",
       "                        <td id=\"T_8f0a1_row3_col5\" class=\"data row3 col5\" >0.063948</td>\n",
       "                        <td id=\"T_8f0a1_row3_col6\" class=\"data row3 col6\" >0.056078</td>\n",
       "                        <td id=\"T_8f0a1_row3_col7\" class=\"data row3 col7\" >0.033753</td>\n",
       "                        <td id=\"T_8f0a1_row3_col8\" class=\"data row3 col8\" >0.125429</td>\n",
       "                        <td id=\"T_8f0a1_row3_col9\" class=\"data row3 col9\" >0.149832</td>\n",
       "                        <td id=\"T_8f0a1_row3_col10\" class=\"data row3 col10\" >0.454630</td>\n",
       "                        <td id=\"T_8f0a1_row3_col11\" class=\"data row3 col11\" >-0.055109</td>\n",
       "            </tr>\n",
       "            <tr>\n",
       "                        <th id=\"T_8f0a1_level0_row4\" class=\"row_heading level0 row4\" >ALT</th>\n",
       "                        <td id=\"T_8f0a1_row4_col0\" class=\"data row4 col0\" >-0.006021</td>\n",
       "                        <td id=\"T_8f0a1_row4_col1\" class=\"data row4 col1\" >-0.161868</td>\n",
       "                        <td id=\"T_8f0a1_row4_col2\" class=\"data row4 col2\" >0.001606</td>\n",
       "                        <td id=\"T_8f0a1_row4_col3\" class=\"data row4 col3\" >0.214480</td>\n",
       "                        <td id=\"T_8f0a1_row4_col4\" class=\"data row4 col4\" >1.000000</td>\n",
       "                        <td id=\"T_8f0a1_row4_col5\" class=\"data row4 col5\" >0.273326</td>\n",
       "                        <td id=\"T_8f0a1_row4_col6\" class=\"data row4 col6\" >-0.038469</td>\n",
       "                        <td id=\"T_8f0a1_row4_col7\" class=\"data row4 col7\" >0.147000</td>\n",
       "                        <td id=\"T_8f0a1_row4_col8\" class=\"data row4 col8\" >0.068947</td>\n",
       "                        <td id=\"T_8f0a1_row4_col9\" class=\"data row4 col9\" >-0.043025</td>\n",
       "                        <td id=\"T_8f0a1_row4_col10\" class=\"data row4 col10\" >0.248114</td>\n",
       "                        <td id=\"T_8f0a1_row4_col11\" class=\"data row4 col11\" >0.094730</td>\n",
       "            </tr>\n",
       "            <tr>\n",
       "                        <th id=\"T_8f0a1_level0_row5\" class=\"row_heading level0 row5\" >AST</th>\n",
       "                        <td id=\"T_8f0a1_row5_col0\" class=\"data row5 col0\" >0.088666</td>\n",
       "                        <td id=\"T_8f0a1_row5_col1\" class=\"data row5 col1\" >-0.130891</td>\n",
       "                        <td id=\"T_8f0a1_row5_col2\" class=\"data row5 col2\" >-0.193450</td>\n",
       "                        <td id=\"T_8f0a1_row5_col3\" class=\"data row5 col3\" >0.063948</td>\n",
       "                        <td id=\"T_8f0a1_row5_col4\" class=\"data row5 col4\" >0.273326</td>\n",
       "                        <td id=\"T_8f0a1_row5_col5\" class=\"data row5 col5\" >1.000000</td>\n",
       "                        <td id=\"T_8f0a1_row5_col6\" class=\"data row5 col6\" >0.312231</td>\n",
       "                        <td id=\"T_8f0a1_row5_col7\" class=\"data row5 col7\" >-0.208536</td>\n",
       "                        <td id=\"T_8f0a1_row5_col8\" class=\"data row5 col8\" >-0.209970</td>\n",
       "                        <td id=\"T_8f0a1_row5_col9\" class=\"data row5 col9\" >-0.021387</td>\n",
       "                        <td id=\"T_8f0a1_row5_col10\" class=\"data row5 col10\" >0.491263</td>\n",
       "                        <td id=\"T_8f0a1_row5_col11\" class=\"data row5 col11\" >0.040071</td>\n",
       "            </tr>\n",
       "            <tr>\n",
       "                        <th id=\"T_8f0a1_level0_row6\" class=\"row_heading level0 row6\" >BIL</th>\n",
       "                        <td id=\"T_8f0a1_row6_col0\" class=\"data row6 col0\" >0.032492</td>\n",
       "                        <td id=\"T_8f0a1_row6_col1\" class=\"data row6 col1\" >-0.111177</td>\n",
       "                        <td id=\"T_8f0a1_row6_col2\" class=\"data row6 col2\" >-0.221651</td>\n",
       "                        <td id=\"T_8f0a1_row6_col3\" class=\"data row6 col3\" >0.056078</td>\n",
       "                        <td id=\"T_8f0a1_row6_col4\" class=\"data row6 col4\" >-0.038469</td>\n",
       "                        <td id=\"T_8f0a1_row6_col5\" class=\"data row6 col5\" >0.312231</td>\n",
       "                        <td id=\"T_8f0a1_row6_col6\" class=\"data row6 col6\" >1.000000</td>\n",
       "                        <td id=\"T_8f0a1_row6_col7\" class=\"data row6 col7\" >-0.333172</td>\n",
       "                        <td id=\"T_8f0a1_row6_col8\" class=\"data row6 col8\" >-0.180370</td>\n",
       "                        <td id=\"T_8f0a1_row6_col9\" class=\"data row6 col9\" >0.031224</td>\n",
       "                        <td id=\"T_8f0a1_row6_col10\" class=\"data row6 col10\" >0.217024</td>\n",
       "                        <td id=\"T_8f0a1_row6_col11\" class=\"data row6 col11\" >-0.047638</td>\n",
       "            </tr>\n",
       "            <tr>\n",
       "                        <th id=\"T_8f0a1_level0_row7\" class=\"row_heading level0 row7\" >CHE</th>\n",
       "                        <td id=\"T_8f0a1_row7_col0\" class=\"data row7 col0\" >-0.075093</td>\n",
       "                        <td id=\"T_8f0a1_row7_col1\" class=\"data row7 col1\" >-0.169111</td>\n",
       "                        <td id=\"T_8f0a1_row7_col2\" class=\"data row7 col2\" >0.375878</td>\n",
       "                        <td id=\"T_8f0a1_row7_col3\" class=\"data row7 col3\" >0.033753</td>\n",
       "                        <td id=\"T_8f0a1_row7_col4\" class=\"data row7 col4\" >0.147000</td>\n",
       "                        <td id=\"T_8f0a1_row7_col5\" class=\"data row7 col5\" >-0.208536</td>\n",
       "                        <td id=\"T_8f0a1_row7_col6\" class=\"data row7 col6\" >-0.333172</td>\n",
       "                        <td id=\"T_8f0a1_row7_col7\" class=\"data row7 col7\" >1.000000</td>\n",
       "                        <td id=\"T_8f0a1_row7_col8\" class=\"data row7 col8\" >0.425456</td>\n",
       "                        <td id=\"T_8f0a1_row7_col9\" class=\"data row7 col9\" >-0.011157</td>\n",
       "                        <td id=\"T_8f0a1_row7_col10\" class=\"data row7 col10\" >-0.110345</td>\n",
       "                        <td id=\"T_8f0a1_row7_col11\" class=\"data row7 col11\" >0.295427</td>\n",
       "            </tr>\n",
       "            <tr>\n",
       "                        <th id=\"T_8f0a1_level0_row8\" class=\"row_heading level0 row8\" >CHOL</th>\n",
       "                        <td id=\"T_8f0a1_row8_col0\" class=\"data row8 col0\" >0.125641</td>\n",
       "                        <td id=\"T_8f0a1_row8_col1\" class=\"data row8 col1\" >0.030208</td>\n",
       "                        <td id=\"T_8f0a1_row8_col2\" class=\"data row8 col2\" >0.208248</td>\n",
       "                        <td id=\"T_8f0a1_row8_col3\" class=\"data row8 col3\" >0.125429</td>\n",
       "                        <td id=\"T_8f0a1_row8_col4\" class=\"data row8 col4\" >0.068947</td>\n",
       "                        <td id=\"T_8f0a1_row8_col5\" class=\"data row8 col5\" >-0.209970</td>\n",
       "                        <td id=\"T_8f0a1_row8_col6\" class=\"data row8 col6\" >-0.180370</td>\n",
       "                        <td id=\"T_8f0a1_row8_col7\" class=\"data row8 col7\" >0.425456</td>\n",
       "                        <td id=\"T_8f0a1_row8_col8\" class=\"data row8 col8\" >1.000000</td>\n",
       "                        <td id=\"T_8f0a1_row8_col9\" class=\"data row8 col9\" >-0.047744</td>\n",
       "                        <td id=\"T_8f0a1_row8_col10\" class=\"data row8 col10\" >-0.006895</td>\n",
       "                        <td id=\"T_8f0a1_row8_col11\" class=\"data row8 col11\" >0.207071</td>\n",
       "            </tr>\n",
       "            <tr>\n",
       "                        <th id=\"T_8f0a1_level0_row9\" class=\"row_heading level0 row9\" >CREA</th>\n",
       "                        <td id=\"T_8f0a1_row9_col0\" class=\"data row9 col0\" >-0.022296</td>\n",
       "                        <td id=\"T_8f0a1_row9_col1\" class=\"data row9 col1\" >-0.159589</td>\n",
       "                        <td id=\"T_8f0a1_row9_col2\" class=\"data row9 col2\" >-0.001573</td>\n",
       "                        <td id=\"T_8f0a1_row9_col3\" class=\"data row9 col3\" >0.149832</td>\n",
       "                        <td id=\"T_8f0a1_row9_col4\" class=\"data row9 col4\" >-0.043025</td>\n",
       "                        <td id=\"T_8f0a1_row9_col5\" class=\"data row9 col5\" >-0.021387</td>\n",
       "                        <td id=\"T_8f0a1_row9_col6\" class=\"data row9 col6\" >0.031224</td>\n",
       "                        <td id=\"T_8f0a1_row9_col7\" class=\"data row9 col7\" >-0.011157</td>\n",
       "                        <td id=\"T_8f0a1_row9_col8\" class=\"data row9 col8\" >-0.047744</td>\n",
       "                        <td id=\"T_8f0a1_row9_col9\" class=\"data row9 col9\" >1.000000</td>\n",
       "                        <td id=\"T_8f0a1_row9_col10\" class=\"data row9 col10\" >0.121003</td>\n",
       "                        <td id=\"T_8f0a1_row9_col11\" class=\"data row9 col11\" >-0.031704</td>\n",
       "            </tr>\n",
       "            <tr>\n",
       "                        <th id=\"T_8f0a1_level0_row10\" class=\"row_heading level0 row10\" >GGT</th>\n",
       "                        <td id=\"T_8f0a1_row10_col0\" class=\"data row10 col0\" >0.153087</td>\n",
       "                        <td id=\"T_8f0a1_row10_col1\" class=\"data row10 col1\" >-0.133276</td>\n",
       "                        <td id=\"T_8f0a1_row10_col2\" class=\"data row10 col2\" >-0.155749</td>\n",
       "                        <td id=\"T_8f0a1_row10_col3\" class=\"data row10 col3\" >0.454630</td>\n",
       "                        <td id=\"T_8f0a1_row10_col4\" class=\"data row10 col4\" >0.248114</td>\n",
       "                        <td id=\"T_8f0a1_row10_col5\" class=\"data row10 col5\" >0.491263</td>\n",
       "                        <td id=\"T_8f0a1_row10_col6\" class=\"data row10 col6\" >0.217024</td>\n",
       "                        <td id=\"T_8f0a1_row10_col7\" class=\"data row10 col7\" >-0.110345</td>\n",
       "                        <td id=\"T_8f0a1_row10_col8\" class=\"data row10 col8\" >-0.006895</td>\n",
       "                        <td id=\"T_8f0a1_row10_col9\" class=\"data row10 col9\" >0.121003</td>\n",
       "                        <td id=\"T_8f0a1_row10_col10\" class=\"data row10 col10\" >1.000000</td>\n",
       "                        <td id=\"T_8f0a1_row10_col11\" class=\"data row10 col11\" >-0.011767</td>\n",
       "            </tr>\n",
       "            <tr>\n",
       "                        <th id=\"T_8f0a1_level0_row11\" class=\"row_heading level0 row11\" >PROT</th>\n",
       "                        <td id=\"T_8f0a1_row11_col0\" class=\"data row11 col0\" >-0.153668</td>\n",
       "                        <td id=\"T_8f0a1_row11_col1\" class=\"data row11 col1\" >-0.051277</td>\n",
       "                        <td id=\"T_8f0a1_row11_col2\" class=\"data row11 col2\" >0.557197</td>\n",
       "                        <td id=\"T_8f0a1_row11_col3\" class=\"data row11 col3\" >-0.055109</td>\n",
       "                        <td id=\"T_8f0a1_row11_col4\" class=\"data row11 col4\" >0.094730</td>\n",
       "                        <td id=\"T_8f0a1_row11_col5\" class=\"data row11 col5\" >0.040071</td>\n",
       "                        <td id=\"T_8f0a1_row11_col6\" class=\"data row11 col6\" >-0.047638</td>\n",
       "                        <td id=\"T_8f0a1_row11_col7\" class=\"data row11 col7\" >0.295427</td>\n",
       "                        <td id=\"T_8f0a1_row11_col8\" class=\"data row11 col8\" >0.207071</td>\n",
       "                        <td id=\"T_8f0a1_row11_col9\" class=\"data row11 col9\" >-0.031704</td>\n",
       "                        <td id=\"T_8f0a1_row11_col10\" class=\"data row11 col10\" >-0.011767</td>\n",
       "                        <td id=\"T_8f0a1_row11_col11\" class=\"data row11 col11\" >1.000000</td>\n",
       "            </tr>\n",
       "    </tbody></table>"
      ],
      "text/plain": [
       "<pandas.io.formats.style.Styler at 0x1ef4b8933a0>"
      ]
     },
     "execution_count": 6,
     "metadata": {},
     "output_type": "execute_result"
    }
   ],
   "source": [
    "corr = dataset.corr()\n",
    "corr.style.background_gradient(cmap='cool')\n"
   ]
  },
  {
   "cell_type": "markdown",
   "metadata": {},
   "source": [
    "Ordenação dos dados de acordo com o index"
   ]
  },
  {
   "cell_type": "code",
   "execution_count": 7,
   "metadata": {},
   "outputs": [
    {
     "data": {
      "text/plain": [
       "0=Blood Donor             533\n",
       "0s=suspect Blood Donor      7\n",
       "1=Hepatitis                24\n",
       "2=Fibrosis                 21\n",
       "3=Cirrhosis                30\n",
       "Name: Category, dtype: int64"
      ]
     },
     "execution_count": 7,
     "metadata": {},
     "output_type": "execute_result"
    }
   ],
   "source": [
    "dataset[\"Category\"].value_counts().sort_index()\n"
   ]
  },
  {
   "cell_type": "markdown",
   "metadata": {},
   "source": [
    "### Verificação dos dados duplicados\n",
    "nenhum caso encontrado"
   ]
  },
  {
   "cell_type": "code",
   "execution_count": 8,
   "metadata": {},
   "outputs": [
    {
     "data": {
      "text/plain": [
       "0"
      ]
     },
     "execution_count": 8,
     "metadata": {},
     "output_type": "execute_result"
    }
   ],
   "source": [
    "dataset.duplicated().sum()"
   ]
  },
  {
   "cell_type": "markdown",
   "metadata": {},
   "source": [
    "### Verificação de dados nulos\n",
    "A técnica escolhida para o tratamento dos dados nulos foi a exclusão"
   ]
  },
  {
   "cell_type": "code",
   "execution_count": 9,
   "metadata": {},
   "outputs": [
    {
     "data": {
      "text/plain": [
       "Category     0\n",
       "Age          0\n",
       "Sex          0\n",
       "ALB          1\n",
       "ALP         18\n",
       "ALT          1\n",
       "AST          0\n",
       "BIL          0\n",
       "CHE          0\n",
       "CHOL        10\n",
       "CREA         0\n",
       "GGT          0\n",
       "PROT         1\n",
       "dtype: int64"
      ]
     },
     "execution_count": 9,
     "metadata": {},
     "output_type": "execute_result"
    }
   ],
   "source": [
    "dataset.isnull().sum()"
   ]
  },
  {
   "cell_type": "markdown",
   "metadata": {},
   "source": [
    "### Exclusão dos dados nulos"
   ]
  },
  {
   "cell_type": "code",
   "execution_count": 10,
   "metadata": {},
   "outputs": [],
   "source": [
    "dataset=dataset.dropna()"
   ]
  },
  {
   "cell_type": "code",
   "execution_count": 11,
   "metadata": {},
   "outputs": [
    {
     "data": {
      "text/plain": [
       "Category    0\n",
       "Age         0\n",
       "Sex         0\n",
       "ALB         0\n",
       "ALP         0\n",
       "ALT         0\n",
       "AST         0\n",
       "BIL         0\n",
       "CHE         0\n",
       "CHOL        0\n",
       "CREA        0\n",
       "GGT         0\n",
       "PROT        0\n",
       "dtype: int64"
      ]
     },
     "execution_count": 11,
     "metadata": {},
     "output_type": "execute_result"
    }
   ],
   "source": [
    "dataset.isnull().sum()"
   ]
  },
  {
   "cell_type": "markdown",
   "metadata": {},
   "source": [
    "### Análise de boxplot e tratamento de outlier\n",
    "Percebe-se a presneça de muitos outliers em diversas labels"
   ]
  },
  {
   "cell_type": "code",
   "execution_count": 12,
   "metadata": {},
   "outputs": [
    {
     "data": {
      "text/plain": [
       "Text(0.5, 1.0, 'Outliers da base não normalizada')"
      ]
     },
     "execution_count": 12,
     "metadata": {},
     "output_type": "execute_result"
    },
    {
     "data": {
      "image/png": "[encoded data removed]",
      "text/plain": [
       "<Figure size 504x432 with 1 Axes>"
      ]
     },
     "metadata": {
      "needs_background": "light"
     },
     "output_type": "display_data"
    }
   ],
   "source": [
    "dataset.boxplot(grid=True, figsize= (7,6))\n",
    "plt.title('Outliers da base não normalizada', fontsize=14)"
   ]
  },
  {
   "cell_type": "markdown",
   "metadata": {},
   "source": [
    "### Organização dos datasets entre normalizados e não normalizados\n",
    "Todos os dados referentes as amostras não normalizadas serão acrescidos do sufixo **-orig**. Dessa forma o dataset não normalizado é o dataset_orig.\n"
   ]
  },
  {
   "cell_type": "code",
   "execution_count": 13,
   "metadata": {},
   "outputs": [],
   "source": [
    "dataset_orig = dataset"
   ]
  },
  {
   "cell_type": "markdown",
   "metadata": {},
   "source": [
    "#### Normalização dos dados\n",
    "Pelo fato da discrepância dos outliers ser alta quando comparado com a mediana dos dados, optou-se por utilizar o Robust Scaler ao invés do Standard. Assim, ele foi aplicado em todas as labels a partir do _Sex_. "
   ]
  },
  {
   "cell_type": "code",
   "execution_count": 14,
   "metadata": {},
   "outputs": [
    {
     "data": {
      "text/html": [
       "<div>\n",
       "<style scoped>\n",
       "    .dataframe tbody tr th:only-of-type {\n",
       "        vertical-align: middle;\n",
       "    }\n",
       "\n",
       "    .dataframe tbody tr th {\n",
       "        vertical-align: top;\n",
       "    }\n",
       "\n",
       "    .dataframe thead th {\n",
       "        text-align: right;\n",
       "    }\n",
       "</style>\n",
       "<table border=\"1\" class=\"dataframe\">\n",
       "  <thead>\n",
       "    <tr style=\"text-align: right;\">\n",
       "      <th></th>\n",
       "      <th>Category</th>\n",
       "      <th>Age</th>\n",
       "      <th>Sex</th>\n",
       "      <th>ALB</th>\n",
       "      <th>ALP</th>\n",
       "      <th>ALT</th>\n",
       "      <th>AST</th>\n",
       "      <th>BIL</th>\n",
       "      <th>CHE</th>\n",
       "      <th>CHOL</th>\n",
       "      <th>CREA</th>\n",
       "      <th>GGT</th>\n",
       "      <th>PROT</th>\n",
       "    </tr>\n",
       "  </thead>\n",
       "  <tbody>\n",
       "    <tr>\n",
       "      <th>1</th>\n",
       "      <td>0=Blood Donor</td>\n",
       "      <td>32</td>\n",
       "      <td>0</td>\n",
       "      <td>-0.539683</td>\n",
       "      <td>-0.500000</td>\n",
       "      <td>-0.967742</td>\n",
       "      <td>-0.352941</td>\n",
       "      <td>0.068966</td>\n",
       "      <td>-0.503788</td>\n",
       "      <td>-1.424658</td>\n",
       "      <td>1.380952</td>\n",
       "      <td>-0.486364</td>\n",
       "      <td>-0.525424</td>\n",
       "    </tr>\n",
       "    <tr>\n",
       "      <th>2</th>\n",
       "      <td>0=Blood Donor</td>\n",
       "      <td>32</td>\n",
       "      <td>0</td>\n",
       "      <td>-0.539683</td>\n",
       "      <td>0.149635</td>\n",
       "      <td>-0.303226</td>\n",
       "      <td>-0.098039</td>\n",
       "      <td>-0.551724</td>\n",
       "      <td>1.102273</td>\n",
       "      <td>-0.349315</td>\n",
       "      <td>-0.142857</td>\n",
       "      <td>-0.327273</td>\n",
       "      <td>0.745763</td>\n",
       "    </tr>\n",
       "    <tr>\n",
       "      <th>3</th>\n",
       "      <td>0=Blood Donor</td>\n",
       "      <td>32</td>\n",
       "      <td>0</td>\n",
       "      <td>0.793651</td>\n",
       "      <td>0.310219</td>\n",
       "      <td>0.870968</td>\n",
       "      <td>2.637255</td>\n",
       "      <td>-0.172414</td>\n",
       "      <td>0.219697</td>\n",
       "      <td>-0.075342</td>\n",
       "      <td>0.428571</td>\n",
       "      <td>0.472727</td>\n",
       "      <td>1.220339</td>\n",
       "    </tr>\n",
       "    <tr>\n",
       "      <th>4</th>\n",
       "      <td>0=Blood Donor</td>\n",
       "      <td>32</td>\n",
       "      <td>0</td>\n",
       "      <td>0.206349</td>\n",
       "      <td>-0.518248</td>\n",
       "      <td>0.509677</td>\n",
       "      <td>-0.303922</td>\n",
       "      <td>2.034483</td>\n",
       "      <td>-0.352273</td>\n",
       "      <td>-0.390411</td>\n",
       "      <td>0.142857</td>\n",
       "      <td>0.500000</td>\n",
       "      <td>0.610169</td>\n",
       "    </tr>\n",
       "    <tr>\n",
       "      <th>5</th>\n",
       "      <td>0=Blood Donor</td>\n",
       "      <td>32</td>\n",
       "      <td>0</td>\n",
       "      <td>-0.428571</td>\n",
       "      <td>0.288321</td>\n",
       "      <td>0.638710</td>\n",
       "      <td>-0.088235</td>\n",
       "      <td>0.431034</td>\n",
       "      <td>0.337121</td>\n",
       "      <td>-0.678082</td>\n",
       "      <td>-0.047619</td>\n",
       "      <td>0.322727</td>\n",
       "      <td>-0.576271</td>\n",
       "    </tr>\n",
       "  </tbody>\n",
       "</table>\n",
       "</div>"
      ],
      "text/plain": [
       "        Category  Age  Sex       ALB       ALP       ALT       AST       BIL  \\\n",
       "1  0=Blood Donor   32    0 -0.539683 -0.500000 -0.967742 -0.352941  0.068966   \n",
       "2  0=Blood Donor   32    0 -0.539683  0.149635 -0.303226 -0.098039 -0.551724   \n",
       "3  0=Blood Donor   32    0  0.793651  0.310219  0.870968  2.637255 -0.172414   \n",
       "4  0=Blood Donor   32    0  0.206349 -0.518248  0.509677 -0.303922  2.034483   \n",
       "5  0=Blood Donor   32    0 -0.428571  0.288321  0.638710 -0.088235  0.431034   \n",
       "\n",
       "        CHE      CHOL      CREA       GGT      PROT  \n",
       "1 -0.503788 -1.424658  1.380952 -0.486364 -0.525424  \n",
       "2  1.102273 -0.349315 -0.142857 -0.327273  0.745763  \n",
       "3  0.219697 -0.075342  0.428571  0.472727  1.220339  \n",
       "4 -0.352273 -0.390411  0.142857  0.500000  0.610169  \n",
       "5  0.337121 -0.678082 -0.047619  0.322727 -0.576271  "
      ]
     },
     "execution_count": 14,
     "metadata": {},
     "output_type": "execute_result"
    }
   ],
   "source": [
    "from sklearn.preprocessing import RobustScaler, StandardScaler, LabelEncoder\n",
    "from sklearn_pandas import DataFrameMapper\n",
    "\n",
    "column_tuples = [\n",
    "    ('Category', None),\n",
    "    ('Age', None),\n",
    "    (['Sex'], None),\n",
    "    (['ALB'], RobustScaler()),\n",
    "    (['ALP'], RobustScaler()),\n",
    "    (['ALT'], RobustScaler()),\n",
    "    (['AST'], RobustScaler()),\n",
    "    (['BIL'], RobustScaler()),\n",
    "    (['CHE'], RobustScaler()),\n",
    "    (['CHOL'], RobustScaler()),\n",
    "    (['CREA'], RobustScaler()),\n",
    "    (['GGT'], RobustScaler()),\n",
    "    (['PROT'], RobustScaler())\n",
    "]\n",
    "\n",
    "mapper = DataFrameMapper(column_tuples, df_out=True)\n",
    "dataset = mapper.fit_transform(dataset)\n",
    "\n",
    "dataset.head()"
   ]
  },
  {
   "cell_type": "code",
   "execution_count": 15,
   "metadata": {},
   "outputs": [
    {
     "data": {
      "text/plain": [
       "Text(0.5, 1.0, 'Outliers da base normalizada')"
      ]
     },
     "execution_count": 15,
     "metadata": {},
     "output_type": "execute_result"
    },
    {
     "data": {
      "image/png": "[encoded data removed]",
      "text/plain": [
       "<Figure size 504x432 with 1 Axes>"
      ]
     },
     "metadata": {
      "needs_background": "light"
     },
     "output_type": "display_data"
    }
   ],
   "source": [
    "dataset.boxplot(grid=True, figsize= (7,6))\n",
    "plt.title('Outliers da base normalizada', fontsize=14)"
   ]
  },
  {
   "cell_type": "markdown",
   "metadata": {},
   "source": [
    "### Divisão do dataset em dados de entrada (x) e de saída (y)\n",
    "Nesta divisão as variáveis independentes são salvas em x e a dependente em y.\n",
    "Para o caso dos dados não normalizados foram utilizadas as variáveis x_orig e y_orig."
   ]
  },
  {
   "cell_type": "code",
   "execution_count": 16,
   "metadata": {},
   "outputs": [],
   "source": [
    "x = dataset.iloc[:, 1:].values\n",
    "x_orig = dataset_orig.iloc[:, 1:].values"
   ]
  },
  {
   "cell_type": "code",
   "execution_count": 17,
   "metadata": {},
   "outputs": [],
   "source": [
    "y = dataset.iloc[:, 0:1].values\n"
   ]
  },
  {
   "cell_type": "code",
   "execution_count": 18,
   "metadata": {},
   "outputs": [
    {
     "data": {
      "text/plain": [
       "(589, 12)"
      ]
     },
     "execution_count": 18,
     "metadata": {},
     "output_type": "execute_result"
    }
   ],
   "source": [
    "#dimensão dos dados\n",
    "x.shape"
   ]
  },
  {
   "cell_type": "markdown",
   "metadata": {},
   "source": [
    "### Codificação da Variável Dependente\n",
    "Inicialmente todos os 4 rótulos do atributo _category_ foram codificados de string para números inteiros de 0-4, onde:\n",
    "- 0: Blood Donor\n",
    "- 1: Suspect Blood Donor\n",
    "- 2: Hepatitis\n",
    "- 3: Fibrosis\n",
    "- 4: Cirrhosis\n"
   ]
  },
  {
   "cell_type": "code",
   "execution_count": 19,
   "metadata": {},
   "outputs": [
    {
     "name": "stderr",
     "output_type": "stream",
     "text": [
      "C:\\Users\\sarah.andrade\\Anaconda3\\lib\\site-packages\\sklearn\\preprocessing\\_label.py:114: DataConversionWarning: A column-vector y was passed when a 1d array was expected. Please change the shape of y to (n_samples, ), for example using ravel().\n",
      "  y = column_or_1d(y, warn=True)\n"
     ]
    }
   ],
   "source": [
    "from sklearn.preprocessing import LabelEncoder\n",
    "le = LabelEncoder()\n",
    "y = le.fit_transform(y)\n"
   ]
  },
  {
   "cell_type": "code",
   "execution_count": 20,
   "metadata": {},
   "outputs": [
    {
     "name": "stdout",
     "output_type": "stream",
     "text": [
      "[0 0 0 0 0 0 0 0 0 0 0 0 0 0 0 0 0 0 0 0 0 0 0 0 0 0 0 0 0 0 0 0 0 0 0 0 0\n",
      " 0 0 0 0 0 0 0 0 0 0 0 0 0 0 0 0 0 0 0 0 0 0 0 0 0 0 0 0 0 0 0 0 0 0 0 0 0\n",
      " 0 0 0 0 0 0 0 0 0 0 0 0 0 0 0 0 0 0 0 0 0 0 0 0 0 0 0 0 0 0 0 0 0 0 0 0 0\n",
      " 0 0 0 0 0 0 0 0 0 0 0 0 0 0 0 0 0 0 0 0 0 0 0 0 0 0 0 0 0 0 0 0 0 0 0 0 0\n",
      " 0 0 0 0 0 0 0 0 0 0 0 0 0 0 0 0 0 0 0 0 0 0 0 0 0 0 0 0 0 0 0 0 0 0 0 0 0\n",
      " 0 0 0 0 0 0 0 0 0 0 0 0 0 0 0 0 0 0 0 0 0 0 0 0 0 0 0 0 0 0 0 0 0 0 0 0 0\n",
      " 0 0 0 0 0 0 0 0 0 0 0 0 0 0 0 0 0 0 0 0 0 0 0 0 0 0 0 0 0 0 0 0 0 0 0 0 0\n",
      " 0 0 0 0 0 0 0 0 0 0 0 0 0 0 0 0 0 0 0 0 0 0 0 0 0 0 0 0 0 0 0 0 0 0 0 0 0\n",
      " 0 0 0 0 0 0 0 0 0 0 0 0 0 0 0 0 0 0 0 0 0 0 0 0 0 0 0 0 0 0 0 0 0 0 0 0 0\n",
      " 0 0 0 0 0 0 0 0 0 0 0 0 0 0 0 0 0 0 0 0 0 0 0 0 0 0 0 0 0 0 0 0 0 0 0 0 0\n",
      " 0 0 0 0 0 0 0 0 0 0 0 0 0 0 0 0 0 0 0 0 0 0 0 0 0 0 0 0 0 0 0 0 0 0 0 0 0\n",
      " 0 0 0 0 0 0 0 0 0 0 0 0 0 0 0 0 0 0 0 0 0 0 0 0 0 0 0 0 0 0 0 0 0 0 0 0 0\n",
      " 0 0 0 0 0 0 0 0 0 0 0 0 0 0 0 0 0 0 0 0 0 0 0 0 0 0 0 0 0 0 0 0 0 0 0 0 0\n",
      " 0 0 0 0 0 0 0 0 0 0 0 0 0 0 0 0 0 0 0 0 0 0 0 0 0 0 0 0 0 0 0 0 0 0 0 0 0\n",
      " 0 0 0 0 0 0 0 0 1 1 1 1 1 1 1 2 2 2 2 2 2 2 2 2 2 2 2 2 2 2 2 2 2 2 2 3 3\n",
      " 3 3 3 3 3 3 3 3 3 3 4 4 4 4 4 4 4 4 4 4 4 4 4 4 4 4 4 4 4 4 4 4 4 4]\n"
     ]
    }
   ],
   "source": [
    "print(y)\n"
   ]
  },
  {
   "cell_type": "markdown",
   "metadata": {},
   "source": [
    "Em seguida, foi realizada uma nova análise dos rótulos com o intuito de identificar quais deles eram referentes aos casos: \n",
    "- Suspect Blood Donor (-1)\n",
    "- Blood Donor (0)\n",
    "- No Blood Donor (1)\n",
    "\n",
    "Nesta etapa também é realizada a indexação das posições referentes as amostras dos casos suspeitos"
   ]
  },
  {
   "cell_type": "code",
   "execution_count": 21,
   "metadata": {},
   "outputs": [],
   "source": [
    "i=0\n",
    "suspect_index=[]\n",
    "for i in range(0,len(y)):\n",
    "    if(y[i]==1):\n",
    "        y[i]=-1\n",
    "        suspect_index.append(i)\n",
    "    if(y[i]>=2):\n",
    "        y[i]=1"
   ]
  },
  {
   "cell_type": "markdown",
   "metadata": {},
   "source": [
    "### Divisão do dataset entre casos supeitos e casos confiáveis\n",
    "Com a utilização do array dos index das amostras suspeitas é realizada uma cópia dos atributos dessas amostras, as quais são armazenadas em x_suspect. E, de modo subsequente, todas os dados dos casos suspeitos são apagados do dataset x e y. "
   ]
  },
  {
   "cell_type": "code",
   "execution_count": 22,
   "metadata": {},
   "outputs": [
    {
     "name": "stdout",
     "output_type": "stream",
     "text": [
      "[526, 527, 528, 529, 530, 531, 532]\n"
     ]
    }
   ],
   "source": [
    "print(suspect_index)"
   ]
  },
  {
   "cell_type": "code",
   "execution_count": 23,
   "metadata": {},
   "outputs": [],
   "source": [
    "#Cópia dos dados x das amostras suspeitas para um novo array \n",
    "x_suspect=[0]*len(suspect_index)\n",
    "x_suspect_orig =[0]*len(suspect_index)\n",
    "\n",
    "for i in range (0, len(suspect_index)):\n",
    "    x_suspect[i]=x[suspect_index[i]] #Salva os valores dos casos suspeitos em um array separado\n",
    "    x_suspect_orig[i]=x_orig[suspect_index[i]]\n",
    "    \n",
    "x_suspect=np.array(x_suspect)#Converte a lista para numpy\n",
    "x_suspect_orig=np.array(x_suspect_orig)\n"
   ]
  },
  {
   "cell_type": "markdown",
   "metadata": {},
   "source": [
    "### Rótulos da base sem os casos suspeitos\n",
    "Retirada dos valores suspeitos do y"
   ]
  },
  {
   "cell_type": "code",
   "execution_count": 24,
   "metadata": {},
   "outputs": [
    {
     "name": "stdout",
     "output_type": "stream",
     "text": [
      "Y dos doadores e não doadores:\n",
      " [0 0 0 0 0 0 0 0 0 0 0 0 0 0 0 0 0 0 0 0 0 0 0 0 0 0 0 0 0 0 0 0 0 0 0 0 0\n",
      " 0 0 0 0 0 0 0 0 0 0 0 0 0 0 0 0 0 0 0 0 0 0 0 0 0 0 0 0 0 0 0 0 0 0 0 0 0\n",
      " 0 0 0 0 0 0 0 0 0 0 0 0 0 0 0 0 0 0 0 0 0 0 0 0 0 0 0 0 0 0 0 0 0 0 0 0 0\n",
      " 0 0 0 0 0 0 0 0 0 0 0 0 0 0 0 0 0 0 0 0 0 0 0 0 0 0 0 0 0 0 0 0 0 0 0 0 0\n",
      " 0 0 0 0 0 0 0 0 0 0 0 0 0 0 0 0 0 0 0 0 0 0 0 0 0 0 0 0 0 0 0 0 0 0 0 0 0\n",
      " 0 0 0 0 0 0 0 0 0 0 0 0 0 0 0 0 0 0 0 0 0 0 0 0 0 0 0 0 0 0 0 0 0 0 0 0 0\n",
      " 0 0 0 0 0 0 0 0 0 0 0 0 0 0 0 0 0 0 0 0 0 0 0 0 0 0 0 0 0 0 0 0 0 0 0 0 0\n",
      " 0 0 0 0 0 0 0 0 0 0 0 0 0 0 0 0 0 0 0 0 0 0 0 0 0 0 0 0 0 0 0 0 0 0 0 0 0\n",
      " 0 0 0 0 0 0 0 0 0 0 0 0 0 0 0 0 0 0 0 0 0 0 0 0 0 0 0 0 0 0 0 0 0 0 0 0 0\n",
      " 0 0 0 0 0 0 0 0 0 0 0 0 0 0 0 0 0 0 0 0 0 0 0 0 0 0 0 0 0 0 0 0 0 0 0 0 0\n",
      " 0 0 0 0 0 0 0 0 0 0 0 0 0 0 0 0 0 0 0 0 0 0 0 0 0 0 0 0 0 0 0 0 0 0 0 0 0\n",
      " 0 0 0 0 0 0 0 0 0 0 0 0 0 0 0 0 0 0 0 0 0 0 0 0 0 0 0 0 0 0 0 0 0 0 0 0 0\n",
      " 0 0 0 0 0 0 0 0 0 0 0 0 0 0 0 0 0 0 0 0 0 0 0 0 0 0 0 0 0 0 0 0 0 0 0 0 0\n",
      " 0 0 0 0 0 0 0 0 0 0 0 0 0 0 0 0 0 0 0 0 0 0 0 0 0 0 0 0 0 0 0 0 0 0 0 0 0\n",
      " 0 0 0 0 0 0 0 0 1 1 1 1 1 1 1 1 1 1 1 1 1 1 1 1 1 1 1 1 1 1 1 1 1 1 1 1 1\n",
      " 1 1 1 1 1 1 1 1 1 1 1 1 1 1 1 1 1 1 1 1 1 1 1 1 1 1 1]\n"
     ]
    }
   ],
   "source": [
    "\n",
    "y = np.delete(y, suspect_index, axis=0)\n",
    "print(\"Y dos doadores e não doadores:\\n\", y)\n"
   ]
  },
  {
   "cell_type": "markdown",
   "metadata": {},
   "source": [
    "#### Exclusão dos atributos dos casos suspeitos do dataset confiável"
   ]
  },
  {
   "cell_type": "code",
   "execution_count": 25,
   "metadata": {},
   "outputs": [],
   "source": [
    "x = np.delete(x, suspect_index, axis=0)\n",
    "x_orig = np.delete(x_orig, suspect_index, axis=0)\n"
   ]
  },
  {
   "cell_type": "markdown",
   "metadata": {},
   "source": [
    "### Balanceamento dos dados\n",
    "Técnica utilizada: Undersampling  \n",
    "\n",
    "O conjunto x é reduzido para que os números de casos rotulados como não doadores de sangue seja igual ao dos doadores"
   ]
  },
  {
   "cell_type": "code",
   "execution_count": 26,
   "metadata": {},
   "outputs": [],
   "source": [
    "### Undersampling\n",
    "from imblearn.under_sampling import RandomUnderSampler\n",
    "\n",
    "y_orig=y\n",
    "undersample = RandomUnderSampler(sampling_strategy='auto', random_state=SEED)\n",
    "x, y = undersample.fit_resample(x, y)\n",
    "\n",
    "x_orig, y_orig = undersample.fit_resample(x_orig, y_orig)"
   ]
  },
  {
   "cell_type": "code",
   "execution_count": 27,
   "metadata": {},
   "outputs": [
    {
     "name": "stdout",
     "output_type": "stream",
     "text": [
      "112\n",
      "112\n",
      "112\n",
      "112\n"
     ]
    }
   ],
   "source": [
    "#Dados balanceados\n",
    "print(len(x))\n",
    "print(len(y))\n",
    "\n",
    "print(len(x_orig))\n",
    "print(len(y_orig))"
   ]
  },
  {
   "cell_type": "markdown",
   "metadata": {},
   "source": [
    "### Dividindo a base confiável em amostras de treinamento e teste\n",
    "Conjunto normalizado: X_train, X_test, y_train e y_test  \n",
    "Conjunto não normalizado: X_train_orig, X_test_orig, y_train_orig e y_test_orig  "
   ]
  },
  {
   "cell_type": "code",
   "execution_count": 28,
   "metadata": {},
   "outputs": [],
   "source": [
    "from sklearn.model_selection import train_test_split\n",
    "X_train, X_test, y_train, y_test = train_test_split(x, y, test_size = 0.2, random_state = 0)\n",
    "X_train_orig, X_test_orig, y_train_orig, y_test_orig = train_test_split(x_orig, y, test_size = 0.2, random_state = 0)\n"
   ]
  },
  {
   "cell_type": "markdown",
   "metadata": {},
   "source": [
    "## ➡️ Algoritmo 1: Rede Neural Artificial - Perceptron Multilayers"
   ]
  },
  {
   "cell_type": "markdown",
   "metadata": {},
   "source": [
    "### Construção da Rede Neural"
   ]
  },
  {
   "cell_type": "code",
   "execution_count": 29,
   "metadata": {},
   "outputs": [],
   "source": [
    "ann = tf.keras.models.Sequential()\n",
    "ann_orig = tf.keras.models.Sequential()"
   ]
  },
  {
   "cell_type": "markdown",
   "metadata": {},
   "source": [
    "### Adicionando neurônios e camadas"
   ]
  },
  {
   "cell_type": "code",
   "execution_count": 30,
   "metadata": {},
   "outputs": [],
   "source": [
    "#Camada de entrada\n",
    "ann.add(tf.keras.layers.Dense(units=12, activation='relu')) #Modelo normalizado\n",
    "ann_orig.add(tf.keras.layers.Dense(units=12, activation='relu'))#Modelo n-normalizado"
   ]
  },
  {
   "cell_type": "code",
   "execution_count": 31,
   "metadata": {},
   "outputs": [],
   "source": [
    "#Camada oculta\n",
    "ann.add(tf.keras.layers.Dense(units=3, activation='relu'))#Modelo normalizado\n",
    "ann_orig.add(tf.keras.layers.Dense(units=3, activation='relu'))#Modelo n-normalizado"
   ]
  },
  {
   "cell_type": "code",
   "execution_count": 32,
   "metadata": {},
   "outputs": [],
   "source": [
    "#Camada de saída\n",
    "ann.add(tf.keras.layers.Dense(units=1, activation='sigmoid'))#Modelo normalizado\n",
    "ann_orig.add(tf.keras.layers.Dense(units=1, activation='sigmoid'))#Modelo n-normalizado"
   ]
  },
  {
   "cell_type": "markdown",
   "metadata": {},
   "source": [
    "### Treinando a Rede"
   ]
  },
  {
   "cell_type": "code",
   "execution_count": 33,
   "metadata": {},
   "outputs": [],
   "source": [
    "ann.compile(optimizer = 'adam', loss = 'binary_crossentropy', metrics = ['accuracy'])#Modelo normalizado\n",
    "ann_orig.compile(optimizer = 'adam', loss = 'binary_crossentropy', metrics = ['accuracy'])#Modelo n-normalizado"
   ]
  },
  {
   "cell_type": "code",
   "execution_count": 34,
   "metadata": {},
   "outputs": [],
   "source": [
    "history = ann.fit(X_train, y_train, validation_split=0.2, epochs=200, batch_size=10, verbose=0)\n",
    "history_orig = ann.fit(X_train_orig, y_train_orig, validation_split=0.2, epochs=200, batch_size=10, verbose=0)"
   ]
  },
  {
   "cell_type": "markdown",
   "metadata": {},
   "source": [
    "### Predição dos resultados e métricas do modelo"
   ]
  },
  {
   "cell_type": "code",
   "execution_count": 35,
   "metadata": {},
   "outputs": [],
   "source": [
    "#Normalizado\n",
    "y_pred = ann.predict(X_test)\n",
    "y_pred = (y_pred > 0.5)\n",
    "y_pred= np.multiply(y_pred, 1)"
   ]
  },
  {
   "cell_type": "code",
   "execution_count": 36,
   "metadata": {},
   "outputs": [],
   "source": [
    "#N-Normalizado\n",
    "y_pred_orig = ann.predict(X_test_orig)\n",
    "y_pred_orig = (y_pred_orig > 0.5)\n",
    "y_pred_orig= np.multiply(y_pred_orig, 1)"
   ]
  },
  {
   "cell_type": "markdown",
   "metadata": {},
   "source": [
    "#### Matriz de Confusão"
   ]
  },
  {
   "cell_type": "code",
   "execution_count": 37,
   "metadata": {},
   "outputs": [
    {
     "name": "stdout",
     "output_type": "stream",
     "text": [
      "[[11  0]\n",
      " [ 1 11]]\n"
     ]
    }
   ],
   "source": [
    "#Normalizado\n",
    "from sklearn.metrics import confusion_matrix, accuracy_score\n",
    "cm = confusion_matrix(y_test, y_pred)\n",
    "print(cm)"
   ]
  },
  {
   "cell_type": "code",
   "execution_count": 38,
   "metadata": {},
   "outputs": [
    {
     "name": "stdout",
     "output_type": "stream",
     "text": [
      "[[10  1]\n",
      " [ 1 11]]\n"
     ]
    }
   ],
   "source": [
    "#N-Normalizado\n",
    "from sklearn.metrics import confusion_matrix, accuracy_score\n",
    "cm_orig = confusion_matrix(y_test_orig, y_pred_orig)\n",
    "print(cm_orig)"
   ]
  },
  {
   "cell_type": "markdown",
   "metadata": {},
   "source": [
    "#### Sensibilidade"
   ]
  },
  {
   "cell_type": "code",
   "execution_count": 39,
   "metadata": {},
   "outputs": [
    {
     "name": "stdout",
     "output_type": "stream",
     "text": [
      "1.0\n"
     ]
    }
   ],
   "source": [
    "#Normalizado\n",
    "sensibilidade_norm =cm[1][1] / (cm[0][1]+cm[1][1])\n",
    "print(sensibilidade_norm)"
   ]
  },
  {
   "cell_type": "code",
   "execution_count": 40,
   "metadata": {},
   "outputs": [
    {
     "name": "stdout",
     "output_type": "stream",
     "text": [
      "0.9166666666666666\n"
     ]
    }
   ],
   "source": [
    "#N-Normalizado\n",
    "sensibilidade_n_norm = cm_orig[1][1] / (cm_orig[0][1]+cm_orig[1][1])\n",
    "print(sensibilidade_n_norm)"
   ]
  },
  {
   "cell_type": "markdown",
   "metadata": {},
   "source": [
    "#### Especificidade"
   ]
  },
  {
   "cell_type": "code",
   "execution_count": 41,
   "metadata": {},
   "outputs": [
    {
     "name": "stdout",
     "output_type": "stream",
     "text": [
      "0.9166666666666666\n"
     ]
    }
   ],
   "source": [
    "#Normalizado\n",
    "esp_norm = cm[0][0] / (cm[0][0]+cm[1][0])\n",
    "print(esp_norm)"
   ]
  },
  {
   "cell_type": "code",
   "execution_count": 42,
   "metadata": {},
   "outputs": [
    {
     "name": "stdout",
     "output_type": "stream",
     "text": [
      "0.9090909090909091\n"
     ]
    }
   ],
   "source": [
    "#N-Normalizado\n",
    "esp_n_norm = cm_orig[0][0] / (cm_orig[0][0]+cm_orig[1][0])\n",
    "print(esp_n_norm)"
   ]
  },
  {
   "cell_type": "markdown",
   "metadata": {},
   "source": [
    "#### Acurácia"
   ]
  },
  {
   "cell_type": "code",
   "execution_count": 43,
   "metadata": {},
   "outputs": [
    {
     "data": {
      "text/plain": [
       "0.9565217391304348"
      ]
     },
     "execution_count": 43,
     "metadata": {},
     "output_type": "execute_result"
    }
   ],
   "source": [
    "#Normalizada\n",
    "acc= accuracy_score(y_test, y_pred)\n",
    "acc"
   ]
  },
  {
   "cell_type": "code",
   "execution_count": 44,
   "metadata": {},
   "outputs": [
    {
     "data": {
      "text/plain": [
       "0.9130434782608695"
      ]
     },
     "execution_count": 44,
     "metadata": {},
     "output_type": "execute_result"
    }
   ],
   "source": [
    "#N-normalizada\n",
    "acc_orig=accuracy_score(y_test_orig, y_pred_orig)\n",
    "acc_orig"
   ]
  },
  {
   "cell_type": "markdown",
   "metadata": {},
   "source": [
    "### 📈 Análise Gráfica do loss do modelo\n",
    "A análise do loss é fundamental em um modelo de rede neural pois ele indica se o modelo utilizado possuiu algum tipo de overfitting ou underfitting. Abaixo são plotados gráficos do loss referetes ao modelo com dados balanceados e não balanceados. Pode-se perceber que os dados balanceados apresentaram uma curva de perda ideal, enquanto não balanceado indica uma possibilidade de underfitting no modelo. Porém, como a taxa de variação da perda dele é muito baixa, a aprendizagem do modelo está dentro dos padrões normais de perda."
   ]
  },
  {
   "cell_type": "code",
   "execution_count": 45,
   "metadata": {},
   "outputs": [
    {
     "data": {
      "image/png": "[encoded data removed]",
      "text/plain": [
       "<Figure size 432x288 with 1 Axes>"
      ]
     },
     "metadata": {
      "needs_background": "light"
     },
     "output_type": "display_data"
    }
   ],
   "source": [
    "plt.plot(history.history['loss'])\n",
    "plt.plot(history.history['val_loss'])\n",
    "plt.title('model loss')\n",
    "plt.ylabel('loss')\n",
    "plt.xlabel('epoch')\n",
    "plt.legend(['train', 'test'], loc='upper left')\n",
    "plt.show()"
   ]
  },
  {
   "cell_type": "code",
   "execution_count": 46,
   "metadata": {},
   "outputs": [
    {
     "data": {
      "image/png": "[encoded data removed]",
      "text/plain": [
       "<Figure size 432x288 with 1 Axes>"
      ]
     },
     "metadata": {
      "needs_background": "light"
     },
     "output_type": "display_data"
    }
   ],
   "source": [
    "plt.plot(history_orig.history['loss'])\n",
    "plt.plot(history_orig.history['val_loss'])\n",
    "plt.title('model loss')\n",
    "plt.ylabel('loss')\n",
    "plt.xlabel('epoch')\n",
    "plt.legend(['train', 'test'], loc='upper left')\n",
    "plt.show()"
   ]
  },
  {
   "cell_type": "markdown",
   "metadata": {},
   "source": [
    "## ✅ Resultados\n",
    "A Tabela abaixo compara os resultados obtidos no modelo da rede neural com as amostras de dados normalizados e não normalizados. Pode-se perceber que a normalizaçãoo nos dados aumentou o potencial de acerto do modelo, tornando a sua sensibilidade, especificidade e acurácia maior do que o outro"
   ]
  },
  {
   "cell_type": "markdown",
   "metadata": {},
   "source": [
    "\n",
    "\n",
    "|          Métricas   |Normalizado         | Não normalizado\n",
    ":---------: | :------: | :-------:\n",
    "|Sensibilidade     | 100%  | 91.6%           \n",
    "|Especificidade    | 91.6%  | 90.9%     \n",
    "|Acurácia    | 95.6%  | 91.3%    "
   ]
  },
  {
   "cell_type": "markdown",
   "metadata": {},
   "source": [
    "### Classificação dos casos suspeitos"
   ]
  },
  {
   "cell_type": "code",
   "execution_count": 47,
   "metadata": {},
   "outputs": [],
   "source": [
    "y_pred_suspect = ann.predict(np.array(x_suspect))\n",
    "y_pred_suspect = (y_pred_suspect>0.5)\n",
    "y_pred_suspect= np.multiply(y_pred_suspect, 1)\n"
   ]
  },
  {
   "cell_type": "code",
   "execution_count": 48,
   "metadata": {},
   "outputs": [
    {
     "name": "stdout",
     "output_type": "stream",
     "text": [
      "    Dados Balanceados: [[0 0 0 0 0 0 0]]\n",
      "Dados Não Balanceados: [[0 0 0 0 0 0 0]]\n",
      "\n",
      "Classificação dos casos suspeitos\n"
     ]
    }
   ],
   "source": [
    "y_pred_suspect_orig = ann_orig.predict(np.array(x_suspect_orig))\n",
    "y_pred_suspect_orig = (y_pred_suspect_orig>0.5)\n",
    "y_pred_suspect_orig= np.multiply(y_pred_suspect_orig, 1)\n",
    "print(\"    Dados Balanceados:\", y_pred_suspect.T)\n",
    "print(\"Dados Não Balanceados:\", y_pred_suspect_orig.T)\n",
    "print(\"\\nClassificação dos casos suspeitos\")\n"
   ]
  },
  {
   "cell_type": "markdown",
   "metadata": {},
   "source": [
    "\n",
    "\n",
    "|          Caso suspeito   |Dados balanceados         | Não balanceados\n",
    ":----------------: | :----------------: | :---------------:\n",
    "|1                 | Doador de sangue   | Doador de sangue           \n",
    "|2                 | Doador de sangue   | Doador de sangue     \n",
    "|3                 | Doador de sangue   | Doador de sangue  \n",
    "|4                 | Doador de sangue   | Doador de sangue           \n",
    "|5                 | Doador de sangue   | Doador de sangue    \n",
    "|6                 | Doador de sangue   | Doador de sangue  \n",
    "|7                 | Doador de sangue   | Doador de sangue   \n",
    "\n",
    "Apesar dos resultados ilustrados na Tabela das métricas, a classificação dos casos supeitos foi idêntica nos dois padrões do dataset, normalizados e não normalizados. Todos os casos foram classificados como possíveis doadores de sangue."
   ]
  },
  {
   "cell_type": "markdown",
   "metadata": {},
   "source": [
    "## ➡️ Algoritmo 2: Árvore de decisão"
   ]
  },
  {
   "cell_type": "code",
   "execution_count": 49,
   "metadata": {},
   "outputs": [],
   "source": [
    "from sklearn.tree import DecisionTreeClassifier"
   ]
  },
  {
   "cell_type": "code",
   "execution_count": 50,
   "metadata": {},
   "outputs": [],
   "source": [
    "clf = DecisionTreeClassifier(random_state = SEED)"
   ]
  },
  {
   "cell_type": "markdown",
   "metadata": {},
   "source": [
    "### Treinamento da árvore"
   ]
  },
  {
   "cell_type": "code",
   "execution_count": 51,
   "metadata": {},
   "outputs": [],
   "source": [
    "clf = clf.fit(X_train,y_train)"
   ]
  },
  {
   "cell_type": "markdown",
   "metadata": {},
   "source": [
    "### Predição dos resultados e métricas do modelo"
   ]
  },
  {
   "cell_type": "code",
   "execution_count": 52,
   "metadata": {},
   "outputs": [],
   "source": [
    "arvore_prediction = clf.predict(X_test)"
   ]
  },
  {
   "cell_type": "markdown",
   "metadata": {},
   "source": [
    "#### Matriz de confusão"
   ]
  },
  {
   "cell_type": "code",
   "execution_count": 53,
   "metadata": {},
   "outputs": [
    {
     "data": {
      "text/plain": [
       "array([[11,  0],\n",
       "       [ 2, 10]], dtype=int64)"
      ]
     },
     "execution_count": 53,
     "metadata": {},
     "output_type": "execute_result"
    }
   ],
   "source": [
    "#Normalizada\n",
    "cm = confusion_matrix(y_test, arvore_prediction)\n",
    "cm"
   ]
  },
  {
   "cell_type": "markdown",
   "metadata": {},
   "source": [
    "#### Sensibilidade"
   ]
  },
  {
   "cell_type": "code",
   "execution_count": 54,
   "metadata": {},
   "outputs": [
    {
     "name": "stdout",
     "output_type": "stream",
     "text": [
      "1.0\n"
     ]
    }
   ],
   "source": [
    "#Normalizada\n",
    "print (cm[1][1] / (cm[0][1]+cm[1][1]))"
   ]
  },
  {
   "cell_type": "markdown",
   "metadata": {},
   "source": [
    "\n",
    "#### Especificidade\n"
   ]
  },
  {
   "cell_type": "code",
   "execution_count": 55,
   "metadata": {},
   "outputs": [
    {
     "name": "stdout",
     "output_type": "stream",
     "text": [
      "0.8461538461538461\n"
     ]
    }
   ],
   "source": [
    "#Normalizada\n",
    "print (cm[0][0] / (cm[0][0]+cm[1][0]))"
   ]
  },
  {
   "cell_type": "markdown",
   "metadata": {},
   "source": [
    "#### Acurácia"
   ]
  },
  {
   "cell_type": "code",
   "execution_count": 56,
   "metadata": {},
   "outputs": [
    {
     "name": "stdout",
     "output_type": "stream",
     "text": [
      "              precision    recall  f1-score   support\n",
      "\n",
      "           0       0.85      1.00      0.92        11\n",
      "           1       1.00      0.83      0.91        12\n",
      "\n",
      "    accuracy                           0.91        23\n",
      "   macro avg       0.92      0.92      0.91        23\n",
      "weighted avg       0.93      0.91      0.91        23\n",
      "\n"
     ]
    }
   ],
   "source": [
    "#Normalizada\n",
    "import sklearn.metrics as metrics\n",
    "accuracy_score(y_test, arvore_prediction)\n",
    "print(metrics.classification_report(y_test,arvore_prediction))"
   ]
  },
  {
   "cell_type": "markdown",
   "metadata": {},
   "source": [
    "## ✅ Resultados\n",
    "A Tabela abaixo compara os resultados obtidos no modelo da árvore de decisão com as amostras de dados normalizados e não normalizados. Pode-se perceber que a normalizaçãoo nos dados não interferiu no resultado das métricas, como esperado, devido a questão da impureza no seu funcionamento. No entanto, os resultados obtidos foram satisfatórios. "
   ]
  },
  {
   "cell_type": "markdown",
   "metadata": {},
   "source": [
    "\n",
    "|          Métricas   |Normalizado         | \n",
    ":---------: | :------: \n",
    "|Sensibilidade     | 100%  |          \n",
    "|Especificidade    | 84.61%  |   \n",
    "|Acurácia    | 91%  |     "
   ]
  },
  {
   "cell_type": "markdown",
   "metadata": {},
   "source": [
    "### Classificação dos casos suspeitos com árvore de decisão"
   ]
  },
  {
   "cell_type": "code",
   "execution_count": 57,
   "metadata": {},
   "outputs": [],
   "source": [
    "arvore_pred_suspect = clf.predict(x_suspect)\n",
    "arvore_pred_suspect = (arvore_pred_suspect>0.5)\n",
    "arvore_pred_suspect = np.multiply(arvore_pred_suspect, 1)"
   ]
  },
  {
   "cell_type": "code",
   "execution_count": 58,
   "metadata": {},
   "outputs": [
    {
     "name": "stdout",
     "output_type": "stream",
     "text": [
      "[0 0 0 0 1 0 0]\n",
      "\n",
      "Legenda:\n",
      " 0 = Doador de sangue,  1 = Não doador de sangue\n"
     ]
    }
   ],
   "source": [
    "print(arvore_pred_suspect)\n",
    "print(\"\\nLegenda:\\n 0 = Doador de sangue,  1 = Não doador de sangue\")"
   ]
  },
  {
   "cell_type": "markdown",
   "metadata": {},
   "source": [
    "\n",
    "\n",
    "|          Caso suspeito   |Dados balanceados         | \n",
    ":----------------: | :----------------: \n",
    "|1                 | Doador de sangue   |         \n",
    "|2                 | Doador de sangue   |     \n",
    "|3                 | Doador de sangue   | \n",
    "|4                 | Doador de sangue   |         \n",
    "|5                 | Não Doador    |   \n",
    "|6                 | Doador de sangue   | \n",
    "|7                 | Doador de sangue   |    \n",
    "\n",
    "A classificação dos casos supeitos"
   ]
  },
  {
   "cell_type": "markdown",
   "metadata": {},
   "source": [
    "# 🆚 Comparação entre resultados da ANN e arvore de decisão\n",
    "No geral, a classificação dos dois algoritmos obtiveram bons resultados durante o teste do seu treinamento, no entanto na predição dos casos suspeitos o algoritmo da ávore classificou a 5ª amostra do caso suspeito como sendo não doador. Essa foi a única divergência encontrada durante a comparação dos resultados."
   ]
  },
  {
   "cell_type": "markdown",
   "metadata": {},
   "source": [
    "\n",
    "|          Caso suspeito   |ANN Balanceada | Árvore Balanceada | \n",
    ":----------------: | :----------------: | :---------------: \n",
    "|1                 | Doador de sangue   | Doador de sangue   |        \n",
    "|2                 | Doador de sangue   | Doador de sangue  |     \n",
    "|3                 | Doador de sangue   | Doador de sangue |\n",
    "|4                 | Doador de sangue   | Doador de sangue  |         \n",
    "|5                 | Doador de sangue | Não Doador   |  \n",
    "|6                 | Doador de sangue   | Doador de sangue |    \n",
    "|7                 | Doador de sangue   | Doador de sangue   |   "
   ]
  },
  {
   "cell_type": "code",
   "execution_count": null,
   "metadata": {},
   "outputs": [],
   "source": []
  },
  {
   "cell_type": "code",
   "execution_count": null,
   "metadata": {},
   "outputs": [],
   "source": []
  },
  {
   "cell_type": "code",
   "execution_count": null,
   "metadata": {},
   "outputs": [],
   "source": []
  }
 ],
 "metadata": {
  "kernelspec": {
   "display_name": "Python 3",
   "language": "python",
   "name": "python3"
  },
  "language_info": {
   "codemirror_mode": {
    "name": "ipython",
    "version": 3
   },
   "file_extension": ".py",
   "mimetype": "text/x-python",
   "name": "python",
   "nbconvert_exporter": "python",
   "pygments_lexer": "ipython3",
   "version": "3.8.8"
  }
 },
 "nbformat": 4,
 "nbformat_minor": 4
}
